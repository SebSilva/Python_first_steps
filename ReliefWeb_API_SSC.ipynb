{
 "cells": [
  {
   "cell_type": "code",
   "execution_count": 3,
   "id": "efa4756f",
   "metadata": {},
   "outputs": [],
   "source": [
    "import requests\n",
    "import pandas as pd"
   ]
  },
  {
   "cell_type": "code",
   "execution_count": 4,
   "id": "29e10f36",
   "metadata": {},
   "outputs": [
    {
     "name": "stdout",
     "output_type": "stream",
     "text": [
      "\n",
      "Establishing contact with the API of Reliefweb\n",
      "\n",
      "Connection established!... \n",
      "\n"
     ]
    }
   ],
   "source": [
    "#Establishing connection with Reliefweb API\n",
    "\n",
    "print('\\nEstablishing contact with the API of Reliefweb')\n",
    "response = requests.get('https://api.reliefweb.int')\n",
    "\n",
    "status=(response.status_code)\n",
    "\n",
    "if status==200:\n",
    "    print('\\nConnection established!... \\n')\n",
    "else:\n",
    "    print('It seems there was a problem...')\n"
   ]
  },
  {
   "cell_type": "code",
   "execution_count": 7,
   "id": "919412d9",
   "metadata": {},
   "outputs": [
    {
     "name": "stdout",
     "output_type": "stream",
     "text": [
      "\n",
      "RELIEFWEB - INFORMING HUMANITARIANS WORLDWIDE\n",
      "\n"
     ]
    },
    {
     "name": "stdin",
     "output_type": "stream",
     "text": [
      "\n",
      "Choose a category (reports, training, jobs): training\n",
      "\n",
      "How many results do you want (from 1 to 10)?: 10\n"
     ]
    },
    {
     "name": "stdout",
     "output_type": "stream",
     "text": [
      "Searching for  10 results:\n",
      "\n",
      "These are the 10  training we were able to find:\n",
      "\n",
      "1 ) Childhub & ISPCAN Webinar: Burnout in the Child Welfare Profession REF:3031113 \n",
      " Follow this link for more information: https://api.reliefweb.int/v1/training/3031113\n",
      "2 ) ChildHub INSPIRE series: The international success story of the KiVa Antibullying Program REF:3031108 \n",
      " Follow this link for more information: https://api.reliefweb.int/v1/training/3031108\n",
      "3 ) New e-learning pathway for Filipino volunteers REF:3013023 \n",
      " Follow this link for more information: https://api.reliefweb.int/v1/training/3013023\n",
      "4 ) Become a strong social leader with this free online course REF:3012993 \n",
      " Follow this link for more information: https://api.reliefweb.int/v1/training/3012993\n",
      "5 ) Humanitarian Essentials Pathway - Free Online Course REF:3012983 \n",
      " Follow this link for more information: https://api.reliefweb.int/v1/training/3012983\n",
      "6 ) Disaster Risk Reduction and Management e-learning pathway for East Africa REF:3012948 \n",
      " Follow this link for more information: https://api.reliefweb.int/v1/training/3012948\n",
      "7 ) Monitoring and Evaluation Practices REF:3009568 \n",
      " Follow this link for more information: https://api.reliefweb.int/v1/training/3009568\n",
      "8 ) Capacitación de Instructores (Training of Trainers) - ENTRi Off-The-Shelf Training Package (Spanish) REF:2999054 \n",
      " Follow this link for more information: https://api.reliefweb.int/v1/training/2999054\n",
      "9 ) Training of Trainers (ToT) Courses - Worldwide REF:2984808 \n",
      " Follow this link for more information: https://api.reliefweb.int/v1/training/2984808\n",
      "10 ) Child Health REF:2969314 \n",
      " Follow this link for more information: https://api.reliefweb.int/v1/training/2969314\n"
     ]
    }
   ],
   "source": [
    "#Choosing an endpoint from the API\n",
    "\n",
    "print('\\nRELIEFWEB - INFORMING HUMANITARIANS WORLDWIDE\\n')\n",
    "\n",
    "category=input('\\nChoose a category (reports, training, jobs):')\n",
    "\n",
    "\n",
    "\n",
    "#Choosing the numer of results to be displayed\n",
    "\n",
    "res_num=input('\\nHow many results do you want (from 1 to 10)?:')\n",
    "\n",
    "if res_num==1:\n",
    "    print('Searching for 1 result:')\n",
    "else:\n",
    "    print('Searching for ', res_num, 'results:')\n",
    "\n",
    "\n",
    "#Processing the request\n",
    "    \n",
    "response = requests.get('https://api.reliefweb.int/v1/{}?appname=apidoc&limit={}'.format(category,res_num))\n",
    "\n",
    "if res_num==1:\n",
    "    print('This is the result we found:')\n",
    "else:\n",
    "    print('\\nThese are the {} '.format(res_num), category, 'we were able to find:\\n')\n",
    "\n",
    "\n",
    "#Displaying the results\n",
    "    \n",
    "reply = response.json()\n",
    "datos = reply['data']\n",
    "\n",
    "x = 1\n",
    "y = int(res_num)\n",
    "\n",
    "\n",
    "for index, x in enumerate(datos):\n",
    "    title = x['fields']['title']\n",
    "    fid = x['id']\n",
    "    link = x['href']\n",
    "    output = '{} ) {} REF:{} \\n Follow this link for more information: {}'.format(index+1, title, fid, link)\n",
    "    print(output)\n",
    "   \n",
    "    "
   ]
  },
  {
   "cell_type": "code",
   "execution_count": 8,
   "id": "1542d562",
   "metadata": {},
   "outputs": [
    {
     "name": "stdin",
     "output_type": "stream",
     "text": [
      "\n",
      "Do you want to export the results? (yes/no): yes\n"
     ]
    },
    {
     "name": "stdout",
     "output_type": "stream",
     "text": [
      "\n",
      "The file will be created in a new folder called Reliefweb training \n",
      "\n",
      "Your file will be ready in 5 seconds!\n"
     ]
    }
   ],
   "source": [
    "#Exporting the results into a new folder/file\n",
    "\n",
    "import os\n",
    "import csv\n",
    "\n",
    "output=input('\\nDo you want to export the results? (yes/no):')\n",
    "\n",
    "if output=='yes':\n",
    "    print('\\nThe file will be created in a new folder called Reliefweb', category,'\\n')\n",
    "    \n",
    "    output_dir = 'Reliefweb'\n",
    "\n",
    "    if not os.path.exists(output_dir):\n",
    "        os.mkdir(output_dir)\n",
    "        output_filename = category+'.csv'\n",
    "        output_path = os.path.join(output_dir, output_filename)\n",
    "\n",
    "        with open(output_path, mode='w', encoding='utf-8') as output_file:\n",
    "            print((pd.json_normalize(datos)), file=output_file)\n",
    "    \n",
    "    print('Your file will be ready in 5 seconds!')\n",
    "    \n",
    "else:\n",
    "    print(\"Ok, then that's it!\")\n",
    "    \n"
   ]
  },
  {
   "cell_type": "code",
   "execution_count": null,
   "id": "ba1df009",
   "metadata": {},
   "outputs": [],
   "source": []
  },
  {
   "cell_type": "code",
   "execution_count": null,
   "id": "7642942a",
   "metadata": {},
   "outputs": [],
   "source": []
  },
  {
   "cell_type": "code",
   "execution_count": null,
   "id": "02946551",
   "metadata": {},
   "outputs": [],
   "source": []
  }
 ],
 "metadata": {
  "kernelspec": {
   "display_name": "Python 3",
   "language": "python",
   "name": "python3"
  },
  "language_info": {
   "codemirror_mode": {
    "name": "ipython",
    "version": 3
   },
   "file_extension": ".py",
   "mimetype": "text/x-python",
   "name": "python",
   "nbconvert_exporter": "python",
   "pygments_lexer": "ipython3",
   "version": "3.8.8"
  }
 },
 "nbformat": 4,
 "nbformat_minor": 5
}
